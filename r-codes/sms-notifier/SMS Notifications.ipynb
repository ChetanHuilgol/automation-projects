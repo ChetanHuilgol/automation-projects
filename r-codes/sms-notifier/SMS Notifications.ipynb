{
 "cells": [
  {
   "cell_type": "markdown",
   "id": "7ec56493-d2fa-4363-8b19-5ba8ec86905f",
   "metadata": {},
   "source": [
    "---\n",
    "# Installaion & Importing of Libraries\n",
    "- In this section, we will install and import all the necessary libraries that are required to perform the desired task.\n",
    "\n",
    "---"
   ]
  },
  {
   "cell_type": "code",
   "execution_count": null,
   "id": "79eb79e6-e7ee-4dc3-9be9-858d849d687f",
   "metadata": {},
   "outputs": [],
   "source": [
    "install.packages(\"request\")\n",
    "install.packages(\"hash\")\n",
    "library(httr)"
   ]
  },
  {
   "cell_type": "markdown",
   "id": "0eb33d98-82c6-482b-84f3-851b3f1380ba",
   "metadata": {},
   "source": [
    "---\n",
    "# Sending of Bulk SMS\n",
    "\n",
    "- In this section, we will implemnent sending of bulk SMS using Fast2SMS API.\n",
    "\n",
    "- You will need the message, phone numbers, and your API key for the execution of the code.\n",
    "\n",
    "---"
   ]
  },
  {
   "cell_type": "code",
   "execution_count": null,
   "id": "285b99ec-9e57-4895-9e75-1b77882c06fb",
   "metadata": {},
   "outputs": [],
   "source": [
    "# Calling the URL and assigning it to variable named url\n",
    "url = paste0(\"https://www.fast2sms.com/dev/bulk\")\n",
    "\n",
    "# Initializing the payload\n",
    "# In <number1>,<number2> pass the mobile number\n",
    "# In <Type Your Message> pass the message\n",
    "payload = paste0(\"sender_id=FSTSMS&message=<Type Your Message>&language=english&route=p&numbers=<number1>,<number2>\")\n",
    "\n",
    "# initializing the POST method\n",
    "response <- POST(url,\n",
    "                 body = payload,\n",
    "                 add_headers('authorization'= \"<YOUR AUTHENTICATION KEY>\",\n",
    "                             'Cache-Control' = 'no-cache',\n",
    "                             'Content-Type' = \"application/x-www-form-urlencoded\"),\n",
    "                 encode = \"json\",\n",
    "                 verbose())"
   ]
  }
 ],
 "metadata": {
  "kernelspec": {
   "display_name": "R",
   "language": "R",
   "name": "ir"
  },
  "language_info": {
   "codemirror_mode": "r",
   "file_extension": ".r",
   "mimetype": "text/x-r-source",
   "name": "R",
   "pygments_lexer": "r",
   "version": "4.1.0"
  }
 },
 "nbformat": 4,
 "nbformat_minor": 5
}
