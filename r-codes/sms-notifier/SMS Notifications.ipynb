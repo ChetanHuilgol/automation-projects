{
 "cells": [
  {
   "cell_type": "markdown",
   "id": "6d435eca-2a43-4d1d-9dca-3bb247666520",
   "metadata": {},
   "source": [
    "# Send Message from R"
   ]
  },
  {
   "cell_type": "markdown",
   "id": "1e847407-c3eb-4b4e-b379-6c5125c338bc",
   "metadata": {},
   "source": [
    "<b><center><img src=\"https://github.com/insaid2018/Term-1/blob/master/Images/INSAID_Full%20Logo.png?raw=true\" width=\"240\" height=\"100\" /></center></b>\n",
    "\n",
    "# <b><center>Automatic SMS in R </center><b>"
   ]
  },
  {
   "cell_type": "markdown",
   "id": "0f1fd3f4-00ea-4c2c-bfd4-0fcf83df24dc",
   "metadata": {},
   "source": [
    "<h2><b>Introduction</b></h2>\n",
    "\n",
    "SMS has always played a unique principle when it comes to cross-validation for data. It is widely used for OTP genaration and is considered to be one of the safest ways of communication in order to cross-validate customer and/or user data. Thouugh the scope of SMS is not only limited for cross-vaalidation of user data and is widely used for purposes such as product marketing and end-end communication, in this project the scope of the work is limited to Automatic SMS genaration through R\n",
    "\n",
    "<h5><b>Package Used</b></h5>\n",
    "    For this project we have used <a href=\"https://www.twilio.com\">Twilio.com!</a> that provides a simple entry point into the telephony world, and helps your business avoid many of the traditional complexities. Developers can quickly get worldwide connectivity by interacting with Twilio using common internet protocols and simple markup"
   ]
  },
  {
   "cell_type": "markdown",
   "id": "ba935be5-8edf-413f-87d8-08aa0d30fc7e",
   "metadata": {},
   "source": [
    "#### Install twilio package"
   ]
  },
  {
   "cell_type": "code",
   "execution_count": 1,
   "id": "a79b40a3-8acf-461b-8896-51eccee0e6d1",
   "metadata": {},
   "outputs": [
    {
     "name": "stderr",
     "output_type": "stream",
     "text": [
      "Installing package into 'C:/Users/Pronay Ghosh/Documents/R/win-library/4.1'\n",
      "(as 'lib' is unspecified)\n",
      "\n"
     ]
    },
    {
     "name": "stdout",
     "output_type": "stream",
     "text": [
      "package 'twilio' successfully unpacked and MD5 sums checked\n",
      "\n",
      "The downloaded binary packages are in\n",
      "\tC:\\Users\\Pronay Ghosh\\AppData\\Local\\Temp\\RtmpWOVxSs\\downloaded_packages\n"
     ]
    }
   ],
   "source": [
    "install.packages(\"twilio\")"
   ]
  },
  {
   "cell_type": "markdown",
   "id": "e7c534cd-0e59-4c31-9545-9e76152f7215",
   "metadata": {},
   "source": [
    "#### Loading twilio"
   ]
  },
  {
   "cell_type": "code",
   "execution_count": 2,
   "id": "52988471-65a2-4899-9613-1f9fc2f7e114",
   "metadata": {},
   "outputs": [],
   "source": [
    "library(twilio)"
   ]
  },
  {
   "cell_type": "markdown",
   "id": "f7fdf8de-57f8-478e-aeb7-ddf47d8fea40",
   "metadata": {},
   "source": [
    "#### Setting SID and Twilio Token\n",
    "- Here for security purpose I can not disclose my SID and TWILIO TOKEN. However, you can check out how to set up your own SID and TWILIO TOKEN from <a href=\"https://www.youtube.com/watch?v=kTdMEc4LkKk&t=191s\">here</a>"
   ]
  },
  {
   "cell_type": "code",
   "execution_count": 3,
   "id": "c6aebcc0-9693-4645-8564-c14f989b114a",
   "metadata": {},
   "outputs": [],
   "source": [
    "# Setting up the SID\n",
    "Sys.setenv(TWILIO_SID = \"AC50df8a748051362d56b7071ed8062303\")\n",
    "\n",
    "# Setting up the TWILLIO TOKEN\n",
    "Sys.setenv(TWILIO_TOKEN = \"69ad6a340fbedc81d5a07fac8f96d6dc\")"
   ]
  },
  {
   "cell_type": "markdown",
   "id": "1dfe9a1c-7936-47a1-976d-a7b1f09eeeba",
   "metadata": {},
   "source": [
    "#### *Send Message*"
   ]
  },
  {
   "cell_type": "code",
   "execution_count": 7,
   "id": "f7318c63-8848-45cb-a7d9-fc818460e6fd",
   "metadata": {},
   "outputs": [
    {
     "data": {
      "text/plain": [
       "From: +19389999413\n",
       "To: +916289861905\n",
       "Body: Sent from your Twilio trial account - Hello from R!\n",
       "Status: queued"
      ]
     },
     "metadata": {},
     "output_type": "display_data"
    }
   ],
   "source": [
    "tw_send_message(\"+916289861905\", \"+19389999413\", \"Hello from R!\")"
   ]
  }
 ],
 "metadata": {
  "kernelspec": {
   "display_name": "R",
   "language": "R",
   "name": "ir"
  },
  "language_info": {
   "codemirror_mode": "r",
   "file_extension": ".r",
   "mimetype": "text/x-r-source",
   "name": "R",
   "pygments_lexer": "r",
   "version": "4.1.0"
  }
 },
 "nbformat": 4,
 "nbformat_minor": 5
}
