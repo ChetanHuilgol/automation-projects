{
 "cells": [
  {
   "cell_type": "markdown",
   "id": "78348028",
   "metadata": {},
   "source": [
    "---\n",
    "\n",
    "### **Introduction & Setups**\n",
    "\n",
    "- Tmux is an open-source terminal multiplexer for Unix-like operating systems. \n",
    "\n",
    "- It allows multiple terminal sessions to be accessed simultaneously in a single window. \n",
    "\n",
    "- It is useful for running more than one command-line program at the same time.\n",
    "\n",
    "- You can setup tmux on Windows using Windows Subsystem for Linux.\n",
    "\n",
    "- Rest if you are using Mac OS or Linux the instructions are straightforward.\n",
    "\n",
    "- You can follow <a href=\"https://insaid.medium.com/setting-up-wsl-2-in-windows-10-87e819d08d2e\">Setup WSL 2 on Windows 10</a> article as a first step. \n",
    "\n",
    "- Next, you need to install tmux package explicitly in linux by executing the following command:\n",
    "\n",
    "    ```\n",
    "    sudo apt install tmux\n",
    "    ```\n",
    "\n",
    "- You are also required to set up R, and Jupyter Notebook in Linux to undertand the functionality of tmuxr.\n",
    "\n",
    "- To setup R on linux execute the following command:\n",
    "\n",
    "    ```\n",
    "    sudo apt-get install r-base\n",
    "    ```\n",
    "    \n",
    "- Once R is installed, you can start R and install the following packages:\n",
    "\n",
    "    ```\n",
    "    install.packages(\"remotes\")\n",
    "    install.packages(\"purrr\")\n",
    "    install.packages(\"devtools\")\n",
    "    remotes::install_github(\"datascienceworkshops/tmuxr\")\n",
    "    ```\n",
    "\n",
    "- To install jupyter notebook, jupyterlab execute the following commands:\n",
    "\n",
    "    ```\n",
    "    pip3 install notebook\n",
    "    pip3 install jupyterlab\n",
    "    ```\n",
    "\n",
    "- Next, to learn the integration of the IRKernel with Jupyter Notebook click <a href=\"https://github.com/insaid2018/automation-projects/tree/main/r-codes\">here</a>.\n",
    "\n",
    "- Once the respective set ups are completed successfully, execute the following command to start tmux server.\n",
    "\n",
    "    ```\n",
    "    tmux new -s session_name\n",
    "    ```\n",
    "\n",
    "- It will start a new session on the terminal.\n",
    "\n",
    "- You can check the session name by executing ```tmux ls``` on the terminal.\n",
    "\n",
    "---"
   ]
  },
  {
   "cell_type": "markdown",
   "id": "57afa448",
   "metadata": {},
   "source": [
    "---\n",
    "\n",
    "### **Installing of R Libraries**\n",
    "\n",
    "- In this section, we need to install some libraries assocated with the tmux.\n",
    "\n",
    "---"
   ]
  },
  {
   "cell_type": "code",
   "execution_count": null,
   "id": "d5bdc723",
   "metadata": {},
   "outputs": [],
   "source": [
    "install.packages(\"remotes\")                                             # Install Remotes package\n",
    "remotes::install_github(\"datascienceworkshops/tmuxr\")                   # Install tmuxr from remote server\n",
    "install.packages(\"purrr\")                                               # Install purrr package"
   ]
  },
  {
   "cell_type": "markdown",
   "id": "d2f261d0-f49a-4970-b858-06b3701bcf65",
   "metadata": {},
   "source": [
    "---\n",
    "\n",
    "### **Importing of Libraries**\n",
    "\n",
    "- In this section, we will import libraries to get the gist of the tmux using R.\n",
    "\n",
    "---"
   ]
  },
  {
   "cell_type": "code",
   "execution_count": 23,
   "id": "0fffdb79-f6b4-4f5d-bc78-a16c78c89e1f",
   "metadata": {},
   "outputs": [],
   "source": [
    "library(tmuxr)\n",
    "library(purrr)"
   ]
  },
  {
   "cell_type": "markdown",
   "id": "316cf84a",
   "metadata": {},
   "source": [
    "---\n",
    "\n",
    "### **Functionality of Tmux with R**\n",
    "\n",
    "- Now, we will demonstrate a few things using R with jupyter notebook and the terminal window side by side.\n",
    "\n",
    "- Please sure that the tmux server instance is running in the background.\n",
    "\n",
    "---"
   ]
  },
  {
   "cell_type": "code",
   "execution_count": 31,
   "id": "0d1faa83-3eb3-4e48-a1a1-d0f23827f868",
   "metadata": {},
   "outputs": [],
   "source": [
    "# Start the session on terminal with the command of tmux new -s my_session\n",
    "# Attach the session to a variable\n",
    "session_demo = attach_session(x=\"my_session\")"
   ]
  },
  {
   "cell_type": "code",
   "execution_count": 6,
   "id": "cfeda72a-915d-4987-9f0a-e00a8f23e7aa",
   "metadata": {},
   "outputs": [],
   "source": [
    "# Creating a second pane of size 23 having bash terminal\n",
    "# Observe the results on the terminal after executing the instruction\n",
    "second_pane = split_window(before=TRUE, size=23, shell_command=\"bash\")"
   ]
  },
  {
   "cell_type": "code",
   "execution_count": 8,
   "id": "dda30eb7-4fba-4eb5-9c68-9e30622a8a49",
   "metadata": {},
   "outputs": [],
   "source": [
    "# Create a sequence of number from 1-100\n",
    "send_keys(target=second_pane, \"seq 100 |\", \"Enter\")\n",
    "\n",
    "# Searches numbers that contain that pattern of 3.\n",
    "send_keys(target=second_pane, \"grep 3\", \"Enter\")"
   ]
  },
  {
   "cell_type": "code",
   "execution_count": 11,
   "id": "88ed0557-273a-4155-ab6d-69fbdcce276c",
   "metadata": {},
   "outputs": [
    {
     "name": "stdout",
     "output_type": "stream",
     "text": [
      " [1] \"mukesh@DESKTOP-JJIJL43:/c/Users/coldp/Desktop/Work/R Automation/Tmuxr$ seq 100 |\"\n",
      " [2] \"> seq 100 |\"                                                                     \n",
      " [3] \"> grep 3\"                                                                        \n",
      " [4] \"3\"                                                                               \n",
      " [5] \"13\"                                                                              \n",
      " [6] \"23\"                                                                              \n",
      " [7] \"30\"                                                                              \n",
      " [8] \"31\"                                                                              \n",
      " [9] \"32\"                                                                              \n",
      "[10] \"33\"                                                                              \n",
      "[11] \"34\"                                                                              \n",
      "[12] \"35\"                                                                              \n",
      "[13] \"36\"                                                                              \n",
      "[14] \"37\"                                                                              \n",
      "[15] \"38\"                                                                              \n",
      "[16] \"39\"                                                                              \n",
      "[17] \"43\"                                                                              \n",
      "[18] \"53\"                                                                              \n",
      "[19] \"63\"                                                                              \n",
      "[20] \"73\"                                                                              \n",
      "[21] \"83\"                                                                              \n",
      "[22] \"93\"                                                                              \n",
      "[23] \"mukesh@DESKTOP-JJIJL43:/c/Users/coldp/Desktop/Work/R Automation/Tmuxr$\"          \n"
     ]
    }
   ],
   "source": [
    "# Capture the results of the pane and print them\n",
    "print(capture_pane(target=second_pane))"
   ]
  },
  {
   "cell_type": "code",
   "execution_count": 12,
   "id": "563d422c-a195-4ab3-9b35-137e282af9eb",
   "metadata": {},
   "outputs": [],
   "source": [
    "# Run full screen process in the background\n",
    "# Check the results on the terminal after executing the following instruction\n",
    "send_keys(target=second_pane, \"top\", \"Enter\")"
   ]
  },
  {
   "cell_type": "code",
   "execution_count": 13,
   "id": "f6232a62-40e3-4d77-9756-35cadbe330e4",
   "metadata": {},
   "outputs": [
    {
     "data": {
      "text/plain": [
       "tmuxr pane 0:0.1: [60x23] [history 0/2000, 0 bytes] %2 (active) "
      ]
     },
     "metadata": {},
     "output_type": "display_data"
    }
   ],
   "source": [
    "# Split the window vertically to show nyancat\n",
    "# You can install nyancat on linux by \"sudo apt install nyancat\"\n",
    "split_window(target=second_pane, vertical=FALSE, size=0.5, shell_command=\"nyancat\")"
   ]
  },
  {
   "cell_type": "code",
   "execution_count": 14,
   "id": "02ff84bd-12b2-4918-828c-31d33d795e43",
   "metadata": {},
   "outputs": [
    {
     "data": {
      "text/html": [],
      "text/latex": [],
      "text/markdown": [],
      "text/plain": [
       "character(0)"
      ]
     },
     "metadata": {},
     "output_type": "display_data"
    }
   ],
   "source": [
    "# To run low level command that is not yet implemented in tmuxr\n",
    "# Resize the screen to get the full view of nyancat\n",
    "tmux_command(command=\"resize-pane\", \"-Z\")"
   ]
  },
  {
   "cell_type": "code",
   "execution_count": 15,
   "id": "5f9850ba-3555-4a55-aabc-107d648fd8b6",
   "metadata": {},
   "outputs": [
    {
     "data": {
      "text/html": [],
      "text/latex": [],
      "text/markdown": [],
      "text/plain": [
       "character(0)"
      ]
     },
     "metadata": {},
     "output_type": "display_data"
    }
   ],
   "source": [
    "# Resize the window again\n",
    "tmux_command(command=\"resize-pane\", \"-Z\")"
   ]
  },
  {
   "cell_type": "code",
   "execution_count": 16,
   "id": "de4576e0-9f21-4808-9f26-9c184e564d22",
   "metadata": {},
   "outputs": [
    {
     "name": "stdout",
     "output_type": "stream",
     "text": [
      "\u001b[m\n",
      "\n",
      "\n",
      "\n",
      "\n",
      "\n",
      "\n",
      "                                  \u001b[40m                              \u001b[m\n",
      "                                \u001b[40m  \u001b[47m                              \u001b[40m  \u001b[m\n",
      "                              \u001b[40m  \u001b[47m      \u001b[m                      \u001b[47m      \u001b[40m  \u001b[m\n",
      "\u001b[43m    \u001b[m                \u001b[43m          \u001b[40m  \u001b[47m    \u001b[m                          \u001b[47m    \u001b[40m  \u001b[m\n",
      "\u001b[43m                              \u001b[40m  \u001b[47m  \u001b[m                    \u001b[40m    \u001b[m      \u001b[47m  \u001b[40m  \u001b[m    \u001b[40m    \u001b[m\n",
      "\u001b[43m                              \u001b[40m  \u001b[47m  \u001b[m                  \u001b[40m  \u001b[m    \u001b[40m  \u001b[m    \u001b[47m  \u001b[40m  \u001b[m  \u001b[40m  \u001b[m    \u001b[40m  \u001b[m\n",
      "    \u001b[43m                \u001b[m          \u001b[40m  \u001b[47m  \u001b[m                  \u001b[40m  \u001b[m          \u001b[47m  \u001b[40m    \u001b[m      \u001b[40m  \u001b[m\n",
      "                      \u001b[40m  \u001b[m      \u001b[40m  \u001b[47m  \u001b[m                  \u001b[40m  \u001b[m      \u001b[40m        \u001b[m        \u001b[40m  \u001b[m\n",
      "                    \u001b[40m  \u001b[m  \u001b[40m  \u001b[m    \u001b[40m  \u001b[47m  \u001b[m                  \u001b[40m  \u001b[m                      \u001b[40m  \u001b[m\n",
      "                    \u001b[40m  \u001b[m  \u001b[40m        \u001b[47m  \u001b[m                \u001b[40m  \u001b[m                          \u001b[40m  \u001b[m\n",
      "                              \u001b[40m  \u001b[47m  \u001b[m                \u001b[40m  \u001b[m        \u001b[40m  \u001b[m          \u001b[40m  \u001b[m    \u001b[40m  \u001b[m\n",
      "                      \u001b[40m    \u001b[m    \u001b[40m  \u001b[47m  \u001b[m                \u001b[40m  \u001b[m      \u001b[40m    \u001b[m    \u001b[40m  \u001b[m  \u001b[40m    \u001b[m    \u001b[40m  \u001b[m\n",
      "                          \u001b[40m      \u001b[47m    \u001b[m              \u001b[40m  \u001b[m                          \u001b[40m  \u001b[m\n",
      "                              \u001b[40m  \u001b[47m      \u001b[m              \u001b[40m  \u001b[m      \u001b[40m            \u001b[m    \u001b[40m  \u001b[m\n",
      "\u001b[44m    \u001b[m                \u001b[44m          \u001b[40m    \u001b[47m                    \u001b[40m  \u001b[m                  \u001b[40m  \u001b[m\n",
      "\u001b[44m                            \u001b[40m  \u001b[m    \u001b[40m                                        \u001b[m\n",
      "\u001b[44m                            \u001b[40m  \u001b[m    \u001b[40m  \u001b[m  \u001b[40m  \u001b[m  \u001b[40m  \u001b[m                \u001b[40m  \u001b[m  \u001b[40m  \u001b[m    \u001b[40m  \u001b[m\n",
      "    \u001b[44m                \u001b[m        \u001b[40m      \u001b[m      \u001b[40m    \u001b[m            \u001b[40m      \u001b[m    \u001b[40m      \u001b[m\n",
      "\n",
      "\n",
      "\n",
      "\n",
      "\n",
      "\n",
      "\n",
      "                                \u001b[1m\u001b[37mYou have nyaned for 258 seconds!\u001b[0m\u001b[39m\u001b[m"
     ]
    }
   ],
   "source": [
    "# Capture the nyancat in the output\n",
    "cat(capture_pane(escape=TRUE, cat=TRUE))"
   ]
  },
  {
   "cell_type": "code",
   "execution_count": 17,
   "id": "273d4c8d-59fe-44cb-8fcc-1bd635b70983",
   "metadata": {},
   "outputs": [
    {
     "data": {
      "text/plain": [
       "[[1]]\n",
       "tmuxr pane 0:0.0: [95x33] [history 54/2000, 17923 bytes] %1 \n",
       "\n",
       "[[2]]\n",
       "tmuxr pane 0:0.1: [96x33] [history 65/2000, 33280 bytes] %2 (active) \n",
       "\n",
       "[[3]]\n",
       "tmuxr pane 0:0.2: [192x15] [history 0/2000, 0 bytes] %0 \n"
      ]
     },
     "metadata": {},
     "output_type": "display_data"
    }
   ],
   "source": [
    "# List all the active panes in the terminal\n",
    "list_panes(session_demo)"
   ]
  },
  {
   "cell_type": "code",
   "execution_count": 28,
   "id": "9a06a4cd-ef20-498d-b68b-d1adee32ae42",
   "metadata": {},
   "outputs": [],
   "source": [
    "# Stop all three panes\n",
    "list_panes(session_demo) %>% head(2) %>% walk(send_keys, \"C-c\")\n",
    "\n",
    "kill_pane(second_pane)"
   ]
  },
  {
   "cell_type": "code",
   "execution_count": 32,
   "id": "4d8a7d77-f3bd-4ce4-b1f9-6969e538c65b",
   "metadata": {},
   "outputs": [],
   "source": [
    "# To kill the server\n",
    "send_keys(target=session_demo, \"tmux kill-server\", \"Enter\")"
   ]
  }
 ],
 "metadata": {
  "kernelspec": {
   "display_name": "R",
   "language": "R",
   "name": "ir"
  },
  "language_info": {
   "codemirror_mode": "r",
   "file_extension": ".r",
   "mimetype": "text/x-r-source",
   "name": "R",
   "pygments_lexer": "r",
   "version": "3.6.3"
  }
 },
 "nbformat": 4,
 "nbformat_minor": 5
}
