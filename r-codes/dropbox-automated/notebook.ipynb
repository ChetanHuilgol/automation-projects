{
 "cells": [
  {
   "cell_type": "markdown",
   "id": "d8a41264-b5e5-444f-bef6-aad3f5f21f3a",
   "metadata": {},
   "source": [
    "---\n",
    "\n",
    "# **Importing of Libraries**\n",
    "\n",
    "- In this section, we have imported all the libraries that we will used to interact with Dropbox.\n",
    "\n",
    "---"
   ]
  },
  {
   "cell_type": "code",
   "execution_count": null,
   "id": "57d35454-b002-48b4-849a-230fa57934b6",
   "metadata": {},
   "outputs": [],
   "source": [
    "library(rdrop2)\n",
    "library(dplyr)"
   ]
  },
  {
   "cell_type": "markdown",
   "id": "f00d078b-979c-4516-9d10-8de035300010",
   "metadata": {},
   "source": [
    "---\n",
    "\n",
    "# **Authentication of Dropbox**\n",
    "\n",
    "- In this section, we will authenticate Dropbox credentials for service access.\n",
    "- This will launch your browser and request access to your Dropbox account. \n",
    "- You will be prompted to log in if you aren't already logged in.\n",
    "- Once completed, close your browser window and return to R to complete authentication. \n",
    "- The credentials are automatically cached (you can prevent this) for future use.\n",
    "- If you wish to save the tokens, for local/remote use, then in any drop_* function, pass ```dtoken = token```\n",
    "- Tokens are valid until revoked.\n",
    "\n",
    "\n",
    "---"
   ]
  },
  {
   "cell_type": "code",
   "execution_count": null,
   "id": "1490f266-e97d-4eb4-81a4-330596956ace",
   "metadata": {},
   "outputs": [],
   "source": [
    "# Authenticate dropbox API\n",
    "drop_auth()\n",
    "\n",
    "# Saving token to the system\n",
    "token <- drop_auth()\n",
    "saveRDS(token, file = \"token.rds\")"
   ]
  },
  {
   "cell_type": "markdown",
   "id": "96bba6fd-d123-4867-ba93-e03360fd5d82",
   "metadata": {},
   "source": [
    "---\n",
    "\n",
    "# **Automation Tasks of Dropbox using R**\n",
    "\n",
    "- In this section, we will observe some of the tasks that can be executed using codes.\n",
    "- You can develop a certain algorithm to automate your personal tasks.\n",
    "\n",
    "\n",
    "---"
   ]
  },
  {
   "cell_type": "code",
   "execution_count": null,
   "id": "7718cf01-f345-432f-bd87-28706d592f77",
   "metadata": {},
   "outputs": [],
   "source": [
    "# Get account details\n",
    "drop_acc() %>% data.frame()"
   ]
  },
  {
   "cell_type": "markdown",
   "id": "37eeaa3c-226b-4328-9b17-025f344f8090",
   "metadata": {},
   "source": [
    "### Create Folders on Dropbox"
   ]
  },
  {
   "cell_type": "code",
   "execution_count": null,
   "id": "f1e398bb-3b20-4e89-b22c-c6b1762465dc",
   "metadata": {},
   "outputs": [],
   "source": [
    "# Create a simple folder by name of drop_test\n",
    "drop_create('drop_test')\n",
    "\n",
    "# Create folder with a full path\n",
    "drop_create('public/drop_test')"
   ]
  },
  {
   "cell_type": "markdown",
   "id": "b99aba1b-f0e3-4cda-9c40-93531663b002",
   "metadata": {},
   "source": [
    "### Upload a Files into Dropbox"
   ]
  },
  {
   "cell_type": "code",
   "execution_count": null,
   "id": "a2700aaf-479e-493e-9398-ae7e19320952",
   "metadata": {},
   "outputs": [],
   "source": [
    "# Upload file to Dropbox\n",
    "write.csv(mtcars, 'mtcars.csv')\n",
    "drop_upload('mtcars.csv')\n",
    "\n",
    "# Upload file to a specific path\n",
    "drop_upload('mtcars.csv', path=\"drop_test\")"
   ]
  },
  {
   "cell_type": "markdown",
   "id": "ace7dfeb-f730-42d4-a041-1e788df505a1",
   "metadata": {},
   "source": [
    "### Download Files from Dropbox"
   ]
  },
  {
   "cell_type": "code",
   "execution_count": null,
   "id": "f31a4f8c-24c5-41b6-a59c-bf892a61188b",
   "metadata": {},
   "outputs": [],
   "source": [
    "# Download files from dropbox\n",
    "drop_download('mtcars.csv')\n",
    "\n",
    "# Download file from a specific path\n",
    "drop_download(\"test_folder/mtcars.csv\")"
   ]
  },
  {
   "cell_type": "markdown",
   "id": "79431c8e-b058-4c6c-a894-2f68bebace2a",
   "metadata": {},
   "source": [
    "### Delete Files from Dropbox"
   ]
  },
  {
   "cell_type": "code",
   "execution_count": null,
   "id": "26489f59-18b1-41f8-88a2-27e9b5851b25",
   "metadata": {},
   "outputs": [],
   "source": [
    "drop_delete('mtcars.csv')"
   ]
  },
  {
   "cell_type": "markdown",
   "id": "dfba677d-473a-48c3-8951-ec34e030a888",
   "metadata": {},
   "source": [
    "### Move Files in Dropbox"
   ]
  },
  {
   "cell_type": "code",
   "execution_count": null,
   "id": "cf74cc30-6db2-49ba-b9a2-2a18f6aa4b72",
   "metadata": {},
   "outputs": [],
   "source": [
    "# Create a new folder\n",
    "drop_create(\"new_folder\")\n",
    "\n",
    "# Move file to a newly created folder\n",
    "drop_move(\"mtcars.csv\", \"new_folder/mtcars.csv\")"
   ]
  },
  {
   "cell_type": "markdown",
   "id": "fa0ab4cb-17f9-44b9-9775-05028d377dfc",
   "metadata": {},
   "source": [
    "### Move Files in Dropbox"
   ]
  },
  {
   "cell_type": "code",
   "execution_count": null,
   "id": "9737d026-7b47-428e-9882-f654369e6839",
   "metadata": {},
   "outputs": [],
   "source": [
    "# Create a new folder\n",
    "drop_create(\"new_folder1\")\n",
    "\n",
    "# Copy file to a newly created folder\n",
    "drop_copy(\"new_folder/mtcars.csv\", \"new_folder1/mtcars.csv\")"
   ]
  },
  {
   "cell_type": "markdown",
   "id": "78c1a843-33c8-41d2-a79f-2ab822ed3601",
   "metadata": {},
   "source": [
    "### Search and Download Files from Dropbox"
   ]
  },
  {
   "cell_type": "code",
   "execution_count": null,
   "id": "63b2ab18-efbf-433e-9c49-008caecd3d72",
   "metadata": {},
   "outputs": [],
   "source": [
    "# Search file with keywords\n",
    "x <- drop_search(\"rabbit\")\n",
    "\n",
    "# Download file from dropbox to a specific path on system\n",
    "drop_download(path=x$matches[[1]]$metadata$path_lower, local_path='~/Desktop/bugs.gif')"
   ]
  },
  {
   "cell_type": "markdown",
   "id": "b4e73bf1-5b09-4b17-a8dd-750885e643ff",
   "metadata": {},
   "source": [
    "### Read CSV Files from Dropbox"
   ]
  },
  {
   "cell_type": "code",
   "execution_count": null,
   "id": "acaca021-4e58-45cb-9a56-3d414d3ae34d",
   "metadata": {},
   "outputs": [],
   "source": [
    "file <- drop_read_csv(file=\"iris.csv\")"
   ]
  }
 ],
 "metadata": {
  "kernelspec": {
   "display_name": "R",
   "language": "R",
   "name": "ir"
  },
  "language_info": {
   "codemirror_mode": "r",
   "file_extension": ".r",
   "mimetype": "text/x-r-source",
   "name": "R",
   "pygments_lexer": "r",
   "version": "4.1.0"
  }
 },
 "nbformat": 4,
 "nbformat_minor": 5
}
