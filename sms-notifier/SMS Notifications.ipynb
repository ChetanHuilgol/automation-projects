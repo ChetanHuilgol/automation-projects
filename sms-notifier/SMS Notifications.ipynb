{
 "cells": [
  {
   "cell_type": "code",
   "execution_count": 1,
   "id": "gross-implement",
   "metadata": {},
   "outputs": [],
   "source": [
    "import requests  "
   ]
  },
  {
   "cell_type": "code",
   "execution_count": 3,
   "id": "cleared-battery",
   "metadata": {},
   "outputs": [
    {
     "name": "stdout",
     "output_type": "stream",
     "text": [
      "{\"return\":true,\"request_id\":\"8lu23rysob9tcfw\",\"message\":[\"SMS sent successfully.\"]}\n"
     ]
    }
   ],
   "source": [
    "# Initializing the request type\n",
    "request = \"https://www.fast2sms.com/dev/bulkV2\"\n",
    "\n",
    "# Initializing the sender ID\n",
    "sender_id = \"?sender_id=Nikhil\"\n",
    "\n",
    "# Initializing the message; Max size is 200 characters.\n",
    "message = \"&message=\" + \"Hey there! this is an experimental message to showcase the awesomeness of Python.\"\n",
    "\n",
    "# Initializing the route\n",
    "route = \"&route=v3\"\n",
    "\n",
    "# Initializing the phone number. They must be of 10 digits and only works in India.\n",
    "numbers = \"&numbers=\" + \"2837593827,3976567876\"\n",
    "\n",
    "# Creating a complete URL request\n",
    "url = request + sender_id + message + route + numbers\n",
    "\n",
    "# Initializing the payload and headers\n",
    "payload={}\n",
    "headers = {\n",
    "  'authorization': 'Your API key',\n",
    "  'Cookie': 'XSRF-TOKEN=eyJpdiI6IjU1dWRkb0hhRGdLNWphb2NXYzY4ZGc9PSIsInZhbHVlIjoiVVwvV3VyczYrMHhSU1JMMXFnRVJQTmdyZ0Y4QlNpSmhmNHJDaVhnYmx4bUhMT0w1bU5cL01CQUxRVU02SjlCV1ZjeDR1RzZLeVFDallIdHNZVXM1cG9lQT09IiwibWFjIjoiYjY2ZTE2NDZhOGI3MzdkYmQ5NWVmNGRkMmM1YjI3NzQwZDZkMGY0YWFkYjFkZTQ5YzdkYTVlOTFiZTg4NDQ5YiJ9; laravel_session=eyJpdiI6IlFKZnkydDFkT1NLMlwvTkhjRE9Jb01nPT0iLCJ2YWx1ZSI6Im53eVZqSDRRbk5yb1lDWXhCUzhNcEpNVFM2RDlhTjBVXC9lM0JVTk9ldGhEVnFQRjk1OUk0K2t3S2N4TDJNSHllZFllRkI3dlNwN1VpbVA5NExuSWphQT09IiwibWFjIjoiMmJmMjI3NmQ3ZWJmYTFjYTA1YzEyMjYyZWY4YWMxZWM0MDc3MmVjODEwNWUyNDAyNzhkZmIwYTg2MTgzYzRhOCJ9'\n",
    "}\n",
    "\n",
    "# Generating the response using POST method\n",
    "response = requests.request(\"POST\", url, headers=headers, data=payload)\n",
    "\n",
    "# Printing the response\n",
    "print(response.text)"
   ]
  }
 ],
 "metadata": {
  "kernelspec": {
   "display_name": "Python 3",
   "language": "python",
   "name": "python3"
  },
  "language_info": {
   "codemirror_mode": {
    "name": "ipython",
    "version": 3
   },
   "file_extension": ".py",
   "mimetype": "text/x-python",
   "name": "python",
   "nbconvert_exporter": "python",
   "pygments_lexer": "ipython3",
   "version": "3.8.7"
  }
 },
 "nbformat": 4,
 "nbformat_minor": 5
}
