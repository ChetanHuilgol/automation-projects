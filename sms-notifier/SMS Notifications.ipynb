{
 "cells": [
  {
   "cell_type": "code",
   "execution_count": 8,
   "id": "federal-darkness",
   "metadata": {},
   "outputs": [],
   "source": [
    "import requests"
   ]
  },
  {
   "cell_type": "code",
   "execution_count": 13,
   "id": "grand-match",
   "metadata": {},
   "outputs": [
    {
     "name": "stdout",
     "output_type": "stream",
     "text": [
      "{\"return\":true,\"request_id\":\"bvfl0c3hg1k8ams\",\"message\":[\"SMS sent successfully.\"]}\n"
     ]
    }
   ],
   "source": [
    "# Initializing the request type\n",
    "request = \"https://www.fast2sms.com/dev/bulkV2\"\n",
    "\n",
    "# Initializing the sender ID\n",
    "sender_id = \"?sender_id=TXTIND\"\n",
    "\n",
    "# Initializing the message; Max size is 200 characters.\n",
    "message = \"&message=\" + \"Hey there! this is an experimental message to showcase the awesomeness of Python.\"\n",
    "\n",
    "# Initializing the route\n",
    "route = \"&route=v3\"\n",
    "\n",
    "# Initializing the phone number. They must be of 10 digits India specific.\n",
    "numbers = \"&numbers=\" + \"<10 digit number>,<10 digit number>\"\n",
    "\n",
    "# Creating a complete URL request\n",
    "url = request + sender_id + message + route + numbers\n",
    "\n",
    "# Initializing the payload and headers\n",
    "payload={}\n",
    "headers = {'authorization': '<Your API Key>'}\n",
    "\n",
    "# Generating the response using POST method\n",
    "response = requests.request(\"POST\", url, headers=headers, data=payload)\n",
    "\n",
    "# Printing the response\n",
    "print(response.text)"
   ]
  }
 ],
 "metadata": {
  "kernelspec": {
   "display_name": "Python 3",
   "language": "python",
   "name": "python3"
  },
  "language_info": {
   "codemirror_mode": {
    "name": "ipython",
    "version": 3
   },
   "file_extension": ".py",
   "mimetype": "text/x-python",
   "name": "python",
   "nbconvert_exporter": "python",
   "pygments_lexer": "ipython3",
   "version": "3.8.7"
  }
 },
 "nbformat": 4,
 "nbformat_minor": 5
}
