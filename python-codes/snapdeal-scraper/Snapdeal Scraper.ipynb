{
 "cells": [
  {
   "cell_type": "markdown",
   "metadata": {},
   "source": [
    "---\n",
    "\n",
    "# **Importing of Libraries**\n",
    "\n",
    "- In this section, we have imported all the libraries that we will used to scrap snapdeal products.\n",
    "\n",
    "---"
   ]
  },
  {
   "cell_type": "code",
   "execution_count": 1,
   "metadata": {},
   "outputs": [],
   "source": [
    "import time\n",
    "import pandas as pd\n",
    "from selenium import webdriver\n",
    "from bs4 import BeautifulSoup\n",
    "from selenium.webdriver.common.keys import Keys"
   ]
  },
  {
   "cell_type": "markdown",
   "metadata": {},
   "source": [
    "---\n",
    "\n",
    "# **Snapdeal Scraper**\n",
    "\n",
    "- In this section, we will use the following user defined function to extract products from snapdeal website.\n",
    "\n",
    "---"
   ]
  },
  {
   "cell_type": "code",
   "execution_count": 3,
   "metadata": {},
   "outputs": [],
   "source": [
    "def main(search, num_of_items):\n",
    "    \"\"\"Executes the main program.\"\"\"\n",
    "\n",
    "    # Initialize the Chrome driver\n",
    "    driver = webdriver.Chrome(\"chromedriver\")\n",
    "    driver.get('https://www.snapdeal.com/')\n",
    "\n",
    "    # Search the products\n",
    "    driver.find_element_by_xpath('//*[@id=\"inputValEnter\"]').send_keys(Keys.CONTROL + \"a\")\n",
    "    driver.find_element_by_xpath('//*[@id=\"inputValEnter\"]').send_keys(search)\n",
    "    driver.find_element_by_xpath('//*[@id=\"inputValEnter\"]').send_keys(Keys.RETURN)\n",
    "\n",
    "    time.sleep(5)\n",
    "\n",
    "    current_scroll_position = 0\n",
    "    new_height = 0.8\n",
    "    sum = 0\n",
    "    speed = 8\n",
    "    data_items = num_of_items\n",
    "    records = list()\n",
    "\n",
    "    while sum <= data_items:\n",
    "\n",
    "        # Screen scroller to get similar items\n",
    "        while current_scroll_position <= new_height:\n",
    "\n",
    "            current_scroll_position += speed\n",
    "            driver.execute_script(\"window.scrollTo(0, {});\".format(current_scroll_position))\n",
    "            new_height = driver.execute_script(\"return document.body.scrollHeight\")\n",
    "            time.sleep(0.015)\n",
    "\n",
    "        # Parse items from start to the scrolled location of the page\n",
    "        soup = BeautifulSoup(driver.page_source, 'html.parser')\n",
    "        results = soup.findAll('section', attrs={'class': 'dp-fired'})\n",
    "        for result in results:\n",
    "\n",
    "            items = result.findAll('div', {'class': 'product-tuple-description'})\n",
    "            for item in items:\n",
    "                try:\n",
    "                    URL = item.find('a', {'class': 'dp-widget-link'})['href']\n",
    "                except AttributeError:\n",
    "                    URL = ''\n",
    "\n",
    "                try:\n",
    "                    title = item.find('p', {'class': 'product-title'}).text\n",
    "                except AttributeError:\n",
    "                    title = ''\n",
    "\n",
    "                try:\n",
    "                    striked_price = item.find('span', {'class': 'product-desc-price'}).text\n",
    "                except AttributeError:\n",
    "                    striked_price = ''\n",
    "\n",
    "                try:\n",
    "                    price = item.find('span', {'class': 'product-price'}).text\n",
    "                except AttributeError:\n",
    "                    price = ''\n",
    "\n",
    "                try:\n",
    "                    price_off = item.find('div', {'class': 'product-discount'}).text.strip()\n",
    "                except AttributeError:\n",
    "                    price_off = ''\n",
    "\n",
    "                try:\n",
    "                    ratings_count = item.find('p', {'class': 'product-rating-count'}).text.replace('(', '').replace(')', '')\n",
    "                except AttributeError:\n",
    "                    ratings_count = ''\n",
    "\n",
    "                tuple_record = (URL, title, price, striked_price, price_off, ratings_count)\n",
    "                records.append(tuple_record)\n",
    "\n",
    "            sum = sum + len(items)\n",
    "\n",
    "        time.sleep(2)\n",
    "        \n",
    "        if sum <= data_items:\n",
    "            button = driver.find_element_by_xpath('//*[@id=\"see-more-products\"]')\n",
    "            driver.execute_script(\"arguments[0].click();\", button)\n",
    "\n",
    "    driver.close()\n",
    "\n",
    "    # # Saving file to a CSV\n",
    "    data = pd.DataFrame(data=records, columns=['URL', 'Title', 'Price', 'StrikedPrice', 'PriceOff', 'RatingsCount'])\n",
    "    data.to_csv('results.csv', index=False)\n",
    "    print('Records saved to the file!')"
   ]
  },
  {
   "cell_type": "code",
   "execution_count": 4,
   "metadata": {},
   "outputs": [
    {
     "name": "stdout",
     "output_type": "stream",
     "text": [
      "Records saved to the file!\n"
     ]
    }
   ],
   "source": [
    "# Search and get the data associated with the product\n",
    "search = input(\"Enter the Product:\")\n",
    "main(search=search, num_of_items=280)"
   ]
  }
 ],
 "metadata": {
  "interpreter": {
   "hash": "23263b619eede791ee76531faea33d0ac3cfe2e28e54d2f570a826170ba9147e"
  },
  "kernelspec": {
   "display_name": "Python 3.9.7 64-bit",
   "name": "python3"
  },
  "language_info": {
   "codemirror_mode": {
    "name": "ipython",
    "version": 3
   },
   "file_extension": ".py",
   "mimetype": "text/x-python",
   "name": "python",
   "nbconvert_exporter": "python",
   "pygments_lexer": "ipython3",
   "version": "3.9.7"
  },
  "orig_nbformat": 4
 },
 "nbformat": 4,
 "nbformat_minor": 2
}
