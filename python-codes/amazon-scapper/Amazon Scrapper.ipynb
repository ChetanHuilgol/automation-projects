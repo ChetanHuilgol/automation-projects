{
 "cells": [
  {
   "cell_type": "code",
   "execution_count": 1,
   "source": [
    "import pandas as pd\r\n",
    "from selenium import webdriver\r\n",
    "from bs4 import BeautifulSoup"
   ],
   "outputs": [],
   "metadata": {}
  },
  {
   "cell_type": "code",
   "execution_count": 88,
   "source": [
    "def get_url(search_item, page):\r\n",
    "    \"\"\"Search the item using the url.\"\"\"\r\n",
    "\r\n",
    "    init_url = \"https://www.amazon.in/s?k={}\"\r\n",
    "    search_item = search_item.replace(\" \", \"+\")\r\n",
    "    final_url = init_url.format(search_item)\r\n",
    "    final_url = final_url + \"&page={}\"\r\n",
    "    return final_url.format(page)\r\n",
    "\r\n",
    "def extractRow(item):\r\n",
    "    \"\"\"Extract details of each row of Amazon Product.\"\"\"\r\n",
    "\r\n",
    "    atag = item.h2.a\r\n",
    "    title = atag.text.strip()\r\n",
    "    url = 'https://www.amazon.in' + atag.get('href')\r\n",
    "\r\n",
    "    try:\r\n",
    "        price = item.find('span', 'a-price')\r\n",
    "        price = price.find('span', 'a-offscreen').text\r\n",
    "    except AttributeError:\r\n",
    "        return \r\n",
    "    \r\n",
    "    try:\r\n",
    "        ratings = item.i.text\r\n",
    "        review_count = item.find('span', {'class': 'a-size-base'}).text\r\n",
    "    except AttributeError:\r\n",
    "        ratings = ''\r\n",
    "        review_count = ''\r\n",
    "\r\n",
    "    return (title, price, ratings, review_count, url)\r\n",
    "\r\n",
    "records = list()\r\n",
    "\r\n",
    "def main(search):\r\n",
    "    \"\"\"Executes the main program.\"\"\"\r\n",
    "\r\n",
    "    # Initialize the Chrome driver\r\n",
    "    driver = webdriver.Chrome(\"chromedriver\")\r\n",
    "\r\n",
    "    record = list()\r\n",
    "\r\n",
    "    for page in range(1, 21):\r\n",
    "        driver.get(get_url(search, page))\r\n",
    "        soup = BeautifulSoup(driver.page_source, 'html.parser')\r\n",
    "        results = soup.findAll('div', {'data-component-type': 's-search-result'})\r\n",
    "\r\n",
    "        for result in results:\r\n",
    "            record = extractRow(result)\r\n",
    "\r\n",
    "            if record:\r\n",
    "                records.append(record)\r\n",
    "\r\n",
    "    driver.close()\r\n",
    "\r\n",
    "    # # Saving file to a CSV\r\n",
    "    data = pd.DataFrame(data=records, columns=['Title', 'Price', 'Ratings', 'Review Count', 'URL'])\r\n",
    "    data.to_csv('results.csv', index=False)"
   ],
   "outputs": [],
   "metadata": {}
  },
  {
   "cell_type": "code",
   "execution_count": 89,
   "source": [
    "# Search and get the data associated with the product\r\n",
    "search = input(\"Enter the Product:\")\r\n",
    "main(search=search)"
   ],
   "outputs": [],
   "metadata": {}
  }
 ],
 "metadata": {
  "kernelspec": {
   "name": "python3",
   "display_name": "Python 3.9.7 64-bit"
  },
  "language_info": {
   "codemirror_mode": {
    "name": "ipython",
    "version": 3
   },
   "file_extension": ".py",
   "mimetype": "text/x-python",
   "name": "python",
   "nbconvert_exporter": "python",
   "pygments_lexer": "ipython3",
   "version": "3.9.7"
  },
  "interpreter": {
   "hash": "23263b619eede791ee76531faea33d0ac3cfe2e28e54d2f570a826170ba9147e"
  }
 },
 "nbformat": 4,
 "nbformat_minor": 5
}